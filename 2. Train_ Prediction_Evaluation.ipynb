{
 "cells": [
  {
   "cell_type": "markdown",
   "id": "df9f41aa",
   "metadata": {},
   "source": [
    "# This notebook will train the model perform predictions on the test data"
   ]
  },
  {
   "cell_type": "code",
   "execution_count": 7,
   "id": "ead55dba",
   "metadata": {},
   "outputs": [],
   "source": [
    "#import libraries and the functions we defined\n",
    "import os\n",
    "import numpy as np\n",
    "import keras\n",
    "import tensorflow\n",
    "from sklearn.model_selection import train_test_split\n",
    "import nibabel as nib\n",
    "import tensorflow as tf\n",
    "import matplotlib.pyplot as plt\n",
    "from Networks.metrics import dice_coef, jaccard_distance\n",
    "from Networks import models\n",
    "from sklearn.model_selection import train_test_split\n",
    "from Networks.switchnorm import SwitchNormalization\n",
    "import fnmatch\n",
    "import nibabel as nib\n",
    "from Data_Gen_2D import DataGenerator"
   ]
  },
  {
   "cell_type": "code",
   "execution_count": 8,
   "id": "4b653625",
   "metadata": {},
   "outputs": [
    {
     "data": {
      "text/plain": [
       "[PhysicalDevice(name='/physical_device:GPU:0', device_type='GPU')]"
      ]
     },
     "execution_count": 8,
     "metadata": {},
     "output_type": "execute_result"
    }
   ],
   "source": [
    "#Activate GPU\n",
    "from tensorflow.python.client import device_lib\n",
    "tensorflow.config.list_physical_devices('GPU')"
   ]
  },
  {
   "cell_type": "code",
   "execution_count": 9,
   "id": "f825451d",
   "metadata": {},
   "outputs": [],
   "source": [
    "#get the dataset path, input and masks\n",
    "def get_file_and_path(data_path, phrase):\n",
    "    set_of = [os.path.join(data_path, f) for f in os.listdir(data_path) if phrase in f]\n",
    "    return set_of"
   ]
  },
  {
   "cell_type": "code",
   "execution_count": 10,
   "id": "a5640bb7",
   "metadata": {},
   "outputs": [
    {
     "name": "stdout",
     "output_type": "stream",
     "text": [
      "10334\n",
      "10334\n"
     ]
    }
   ],
   "source": [
    "#define the input image and mask locations\n",
    "data_path_1 = r\"D:\\Lung\\Keras\\npy1\\\\\"\n",
    "#use the function to collect all input images\n",
    "images = get_file_and_path(data_path_1, '_M')\n",
    "print(len(images))\n",
    "\n",
    "#similarly gather all the masks\n",
    "labels = get_file_and_path(data_path_1, '_K')\n",
    "print(len(labels))\n"
   ]
  },
  {
   "cell_type": "code",
   "execution_count": 11,
   "id": "0d4e383d",
   "metadata": {},
   "outputs": [
    {
     "name": "stdout",
     "output_type": "stream",
     "text": [
      "D:\\Lung\\Keras\\npy1\\\\W6_ET649F_218_K.npy\n"
     ]
    },
    {
     "data": {
      "text/plain": [
       "<matplotlib.image.AxesImage at 0x27a9e9d1e50>"
      ]
     },
     "execution_count": 11,
     "metadata": {},
     "output_type": "execute_result"
    },
    {
     "data": {
      "image/png": "[encoded data removed]",
      "text/plain": [
       "<Figure size 640x480 with 1 Axes>"
      ]
     },
     "metadata": {},
     "output_type": "display_data"
    }
   ],
   "source": [
    "#check if the mask name and image are proper\n",
    "%matplotlib inline\n",
    "print(labels[-150])\n",
    "image = np.load(labels[-150])\n",
    "plt.imshow(image, cmap='gray')"
   ]
  },
  {
   "cell_type": "code",
   "execution_count": 12,
   "id": "3d38dc47",
   "metadata": {},
   "outputs": [
    {
     "name": "stdout",
     "output_type": "stream",
     "text": [
      "10334\n"
     ]
    }
   ],
   "source": [
    "#map the masks to the corresponding input images\n",
    "labels = {image: i for i, image in enumerate(images)}\n",
    "print(len(labels))"
   ]
  },
  {
   "cell_type": "code",
   "execution_count": 13,
   "id": "6251de22",
   "metadata": {},
   "outputs": [],
   "source": [
    "#backup\n",
    "d = {}\n",
    "for i in images:\n",
    "    if i not in d:\n",
    "        d[i] = len(d)\n",
    "\n",
    "labels_mapping = list(map(d.get, images))\n",
    "#print(labels_mapping)\n",
    "\n",
    "labels = {images[i]:labels_mapping[i] for i in range(len(images))}"
   ]
  },
  {
   "cell_type": "markdown",
   "id": "b3cbbc21",
   "metadata": {},
   "source": [
    "## Train, Validation Split\n",
    "###### Make sure you have seperate unseen test dataset"
   ]
  },
  {
   "cell_type": "code",
   "execution_count": 14,
   "id": "3bba43f6",
   "metadata": {},
   "outputs": [
    {
     "name": "stdout",
     "output_type": "stream",
     "text": [
      "370\n",
      "296\n",
      "74\n",
      "8196\n",
      "2138\n"
     ]
    }
   ],
   "source": [
    "# getting the patient id list\n",
    "id_list = [os.path.basename(image)[:11] for image in images]\n",
    "unique_ids = list(set(id_list))\n",
    "print(len(unique_ids))\n",
    "# Splitting data into train and validation sets\n",
    "train_ids, val_ids = train_test_split(unique_ids, train_size=0.8)\n",
    "\n",
    "train_list = [image for image in images if any(phrase in image for phrase in train_ids)]\n",
    "val_list = [image for image in images if any(phrase in image for phrase in val_ids)]\n",
    "partition = {'train': train_list, 'validation': val_list}\n",
    "print(len(train_ids))\n",
    "print(len(val_ids))\n",
    "print(len(train_list))\n",
    "print(len(val_list))"
   ]
  },
  {
   "cell_type": "markdown",
   "id": "56701341",
   "metadata": {},
   "source": [
    "# Set up Training Environment "
   ]
  },
  {
   "cell_type": "code",
   "execution_count": 15,
   "id": "46b84ee7",
   "metadata": {},
   "outputs": [
    {
     "name": "stdout",
     "output_type": "stream",
     "text": [
      "(32, 128, 128, 1) (32, 128, 128, 2)\n"
     ]
    }
   ],
   "source": [
    "params = {'dim': (128,128),\n",
    "          'batch_size': 32,\n",
    "          'n_classes': 2,\n",
    "          'n_channels': 1,\n",
    "          'shuffle': True}\n",
    "training_generator = DataGenerator(partition['train'], labels, **params)\n",
    "validation_generator = DataGenerator(partition['validation'], labels, **params)\n",
    "X,y = training_generator[8]\n",
    "print(X.shape, y.shape)"
   ]
  },
  {
   "cell_type": "markdown",
   "id": "173ff990",
   "metadata": {},
   "source": [
    "## Visualize if images are correctly mapped with their masks"
   ]
  },
  {
   "cell_type": "code",
   "execution_count": 16,
   "id": "76312cb2",
   "metadata": {},
   "outputs": [
    {
     "data": {
      "image/png": "[encoded data removed]",
      "text/plain": [
       "<Figure size 1000x800 with 4 Axes>"
      ]
     },
     "metadata": {},
     "output_type": "display_data"
    }
   ],
   "source": [
    "n = 10\n",
    "X_batch = X[n,:,:,:]\n",
    "X_img = X_batch[:,:,0]\n",
    "\n",
    "y_batch = y[n,:,:,:]\n",
    "y_img_1 = y_batch[:,:,1]\n",
    "\n",
    "fig, axs = plt.subplots(2, 2, figsize=(10, 8))\n",
    "axs[0, 0].imshow(X_img, cmap='gray')\n",
    "axs[0, 0].set_title('Image')\n",
    "\n",
    "axs[0, 1].imshow(y_img_1, cmap='gray')\n",
    "axs[0, 1].set_title('Mask')\n",
    "\n",
    "axs[1, 0].axis('off')  # Hide the empty subplot\n",
    "axs[1, 1].axis('off')  # Hide the empty subplot\n",
    "\n",
    "plt.tight_layout()\n",
    "plt.show()"
   ]
  },
  {
   "cell_type": "code",
   "execution_count": 5,
   "id": "e5be715e",
   "metadata": {},
   "outputs": [
    {
     "name": "stdout",
     "output_type": "stream",
     "text": [
      "Automated hyper-parameter determination is applied with the following details:\n",
      "----------\n",
      "\tNumber of convolution filters after each full-scale skip connection: filter_num_skip = [64, 64, 64]\n",
      "\tNumber of channels of full-scale aggregated feature maps: filter_num_aggregate = 256\n",
      "Model: \"model_1\"\n",
      "__________________________________________________________________________________________________\n",
      " Layer (type)                   Output Shape         Param #     Connected to                     \n",
      "==================================================================================================\n",
      " input_4 (InputLayer)           [(None, 128, 128, 1  0           []                               \n",
      "                                )]                                                                \n",
      "                                                                                                  \n",
      " unet3plus_down0_0 (Conv2D)     (None, 128, 128, 64  576         ['input_4[0][0]']                \n",
      "                                )                                                                 \n",
      "                                                                                                  \n",
      " unet3plus_down0_0_bn (BatchNor  (None, 128, 128, 64  256        ['unet3plus_down0_0[0][0]']      \n",
      " malization)                    )                                                                 \n",
      "                                                                                                  \n",
      " unet3plus_down0_0_activation (  (None, 128, 128, 64  0          ['unet3plus_down0_0_bn[0][0]']   \n",
      " ReLU)                          )                                                                 \n",
      "                                                                                                  \n",
      " unet3plus_down0_1 (Conv2D)     (None, 128, 128, 64  36864       ['unet3plus_down0_0_activation[0]\n",
      "                                )                                [0]']                            \n",
      "                                                                                                  \n",
      " unet3plus_down0_1_bn (BatchNor  (None, 128, 128, 64  256        ['unet3plus_down0_1[0][0]']      \n",
      " malization)                    )                                                                 \n",
      "                                                                                                  \n",
      " unet3plus_down0_1_activation (  (None, 128, 128, 64  0          ['unet3plus_down0_1_bn[0][0]']   \n",
      " ReLU)                          )                                                                 \n",
      "                                                                                                  \n",
      " unet3plus_down1_encode_maxpool  (None, 64, 64, 64)  0           ['unet3plus_down0_1_activation[0]\n",
      "  (MaxPooling2D)                                                 [0]']                            \n",
      "                                                                                                  \n",
      " unet3plus_down1_conv_0 (Conv2D  (None, 64, 64, 128)  73728      ['unet3plus_down1_encode_maxpool[\n",
      " )                                                               0][0]']                          \n",
      "                                                                                                  \n",
      " unet3plus_down1_conv_0_bn (Bat  (None, 64, 64, 128)  512        ['unet3plus_down1_conv_0[0][0]'] \n",
      " chNormalization)                                                                                 \n",
      "                                                                                                  \n",
      " unet3plus_down1_conv_0_activat  (None, 64, 64, 128)  0          ['unet3plus_down1_conv_0_bn[0][0]\n",
      " ion (ReLU)                                                      ']                               \n",
      "                                                                                                  \n",
      " unet3plus_down1_conv_1 (Conv2D  (None, 64, 64, 128)  147456     ['unet3plus_down1_conv_0_activati\n",
      " )                                                               on[0][0]']                       \n",
      "                                                                                                  \n",
      " unet3plus_down1_conv_1_bn (Bat  (None, 64, 64, 128)  512        ['unet3plus_down1_conv_1[0][0]'] \n",
      " chNormalization)                                                                                 \n",
      "                                                                                                  \n",
      " unet3plus_down1_conv_1_activat  (None, 64, 64, 128)  0          ['unet3plus_down1_conv_1_bn[0][0]\n",
      " ion (ReLU)                                                      ']                               \n",
      "                                                                                                  \n",
      " unet3plus_down2_encode_maxpool  (None, 32, 32, 128)  0          ['unet3plus_down1_conv_1_activati\n",
      "  (MaxPooling2D)                                                 on[0][0]']                       \n",
      "                                                                                                  \n",
      " unet3plus_down2_conv_0 (Conv2D  (None, 32, 32, 256)  294912     ['unet3plus_down2_encode_maxpool[\n",
      " )                                                               0][0]']                          \n",
      "                                                                                                  \n",
      " unet3plus_down2_conv_0_bn (Bat  (None, 32, 32, 256)  1024       ['unet3plus_down2_conv_0[0][0]'] \n",
      " chNormalization)                                                                                 \n",
      "                                                                                                  \n",
      " unet3plus_down2_conv_0_activat  (None, 32, 32, 256)  0          ['unet3plus_down2_conv_0_bn[0][0]\n",
      " ion (ReLU)                                                      ']                               \n",
      "                                                                                                  \n",
      " unet3plus_down2_conv_1 (Conv2D  (None, 32, 32, 256)  589824     ['unet3plus_down2_conv_0_activati\n",
      " )                                                               on[0][0]']                       \n",
      "                                                                                                  \n",
      " unet3plus_down2_conv_1_bn (Bat  (None, 32, 32, 256)  1024       ['unet3plus_down2_conv_1[0][0]'] \n",
      " chNormalization)                                                                                 \n",
      "                                                                                                  \n",
      " unet3plus_down2_conv_1_activat  (None, 32, 32, 256)  0          ['unet3plus_down2_conv_1_bn[0][0]\n",
      " ion (ReLU)                                                      ']                               \n",
      "                                                                                                  \n",
      " unet3plus_down3_encode_maxpool  (None, 16, 16, 256)  0          ['unet3plus_down2_conv_1_activati\n",
      "  (MaxPooling2D)                                                 on[0][0]']                       \n",
      "                                                                                                  \n",
      " unet3plus_down3_conv_0 (Conv2D  (None, 16, 16, 512)  1179648    ['unet3plus_down3_encode_maxpool[\n",
      " )                                                               0][0]']                          \n",
      "                                                                                                  \n",
      " unet3plus_down3_conv_0_bn (Bat  (None, 16, 16, 512)  2048       ['unet3plus_down3_conv_0[0][0]'] \n",
      " chNormalization)                                                                                 \n",
      "                                                                                                  \n",
      " unet3plus_down3_conv_0_activat  (None, 16, 16, 512)  0          ['unet3plus_down3_conv_0_bn[0][0]\n",
      " ion (ReLU)                                                      ']                               \n",
      "                                                                                                  \n",
      " unet3plus_down3_conv_1 (Conv2D  (None, 16, 16, 512)  2359296    ['unet3plus_down3_conv_0_activati\n",
      " )                                                               on[0][0]']                       \n"
     ]
    },
    {
     "name": "stdout",
     "output_type": "stream",
     "text": [
      "                                                                                                  \n",
      " unet3plus_down3_conv_1_bn (Bat  (None, 16, 16, 512)  2048       ['unet3plus_down3_conv_1[0][0]'] \n",
      " chNormalization)                                                                                 \n",
      "                                                                                                  \n",
      " unet3plus_down3_conv_1_activat  (None, 16, 16, 512)  0          ['unet3plus_down3_conv_1_bn[0][0]\n",
      " ion (ReLU)                                                      ']                               \n",
      "                                                                                                  \n",
      " unet3plus_up_0_en0_trans_conv   (None, 32, 32, 64)  294976      ['unet3plus_down3_conv_1_activati\n",
      " (Conv2DTranspose)                                               on[0][0]']                       \n",
      "                                                                                                  \n",
      " unet3plus_up_0_en0_bn (BatchNo  (None, 32, 32, 64)  256         ['unet3plus_up_0_en0_trans_conv[0\n",
      " rmalization)                                                    ][0]']                           \n",
      "                                                                                                  \n",
      " unet3plus_up_0_en0_activation   (None, 32, 32, 64)  0           ['unet3plus_up_0_en0_bn[0][0]']  \n",
      " (ReLU)                                                                                           \n",
      "                                                                                                  \n",
      " unet3plus_down_0_en2_maxpool (  (None, 32, 32, 128)  0          ['unet3plus_down1_conv_1_activati\n",
      " MaxPooling2D)                                                   on[0][0]']                       \n",
      "                                                                                                  \n",
      " unet3plus_down_from0_to0_0 (Co  (None, 32, 32, 64)  36864       ['unet3plus_up_0_en0_activation[0\n",
      " nv2D)                                                           ][0]']                           \n",
      "                                                                                                  \n",
      " unet3plus_down_from0_to1_0 (Co  (None, 32, 32, 64)  147456      ['unet3plus_down2_conv_1_activati\n",
      " nv2D)                                                           on[0][0]']                       \n",
      "                                                                                                  \n",
      " unet3plus_down_from0_to2_0 (Co  (None, 32, 32, 64)  73728       ['unet3plus_down_0_en2_maxpool[0]\n",
      " nv2D)                                                           [0]']                            \n",
      "                                                                                                  \n",
      " unet3plus_down_from0_to0_0_bn   (None, 32, 32, 64)  256         ['unet3plus_down_from0_to0_0[0][0\n",
      " (BatchNormalization)                                            ]']                              \n",
      "                                                                                                  \n",
      " unet3plus_down_from0_to1_0_bn   (None, 32, 32, 64)  256         ['unet3plus_down_from0_to1_0[0][0\n",
      " (BatchNormalization)                                            ]']                              \n",
      "                                                                                                  \n",
      " unet3plus_down_from0_to2_0_bn   (None, 32, 32, 64)  256         ['unet3plus_down_from0_to2_0[0][0\n",
      " (BatchNormalization)                                            ]']                              \n",
      "                                                                                                  \n",
      " unet3plus_down_from0_to0_0_act  (None, 32, 32, 64)  0           ['unet3plus_down_from0_to0_0_bn[0\n",
      " ivation (ReLU)                                                  ][0]']                           \n",
      "                                                                                                  \n",
      " unet3plus_down_from0_to1_0_act  (None, 32, 32, 64)  0           ['unet3plus_down_from0_to1_0_bn[0\n",
      " ivation (ReLU)                                                  ][0]']                           \n",
      "                                                                                                  \n",
      " unet3plus_down_from0_to2_0_act  (None, 32, 32, 64)  0           ['unet3plus_down_from0_to2_0_bn[0\n",
      " ivation (ReLU)                                                  ][0]']                           \n",
      "                                                                                                  \n",
      " unet3plus_concat_0 (Concatenat  (None, 32, 32, 192)  0          ['unet3plus_down_from0_to0_0_acti\n",
      " e)                                                              vation[0][0]',                   \n",
      "                                                                  'unet3plus_down_from0_to1_0_acti\n",
      "                                                                 vation[0][0]',                   \n",
      "                                                                  'unet3plus_down_from0_to2_0_acti\n",
      "                                                                 vation[0][0]']                   \n",
      "                                                                                                  \n",
      " unet3plus_fusion_conv_0_0 (Con  (None, 32, 32, 256)  442368     ['unet3plus_concat_0[0][0]']     \n",
      " v2D)                                                                                             \n",
      "                                                                                                  \n",
      " unet3plus_fusion_conv_0_0_bn (  (None, 32, 32, 256)  1024       ['unet3plus_fusion_conv_0_0[0][0]\n",
      " BatchNormalization)                                             ']                               \n",
      "                                                                                                  \n",
      " unet3plus_fusion_conv_0_0_acti  (None, 32, 32, 256)  0          ['unet3plus_fusion_conv_0_0_bn[0]\n",
      " vation (ReLU)                                                   [0]']                            \n",
      "                                                                                                  \n",
      " unet3plus_up_1_en0_trans_conv   (None, 64, 64, 64)  294976      ['unet3plus_down3_conv_1_activati\n",
      " (Conv2DTranspose)                                               on[0][0]']                       \n",
      "                                                                                                  \n",
      " unet3plus_up_1_en1_trans_conv   (None, 64, 64, 64)  147520      ['unet3plus_fusion_conv_0_0_activ\n",
      " (Conv2DTranspose)                                               ation[0][0]']                    \n",
      "                                                                                                  \n",
      " unet3plus_up_1_en0_bn (BatchNo  (None, 64, 64, 64)  256         ['unet3plus_up_1_en0_trans_conv[0\n",
      " rmalization)                                                    ][0]']                           \n",
      "                                                                                                  \n",
      " unet3plus_up_1_en1_bn (BatchNo  (None, 64, 64, 64)  256         ['unet3plus_up_1_en1_trans_conv[0\n",
      " rmalization)                                                    ][0]']                           \n",
      "                                                                                                  \n",
      " unet3plus_up_1_en0_activation   (None, 64, 64, 64)  0           ['unet3plus_up_1_en0_bn[0][0]']  \n",
      " (ReLU)                                                                                           \n",
      "                                                                                                  \n",
      " unet3plus_up_1_en1_activation   (None, 64, 64, 64)  0           ['unet3plus_up_1_en1_bn[0][0]']  \n",
      " (ReLU)                                                                                           \n",
      "                                                                                                  \n",
      " unet3plus_down_from1_to0_0 (Co  (None, 64, 64, 64)  36864       ['unet3plus_up_1_en0_activation[0\n",
      " nv2D)                                                           ][0]']                           \n",
      "                                                                                                  \n"
     ]
    },
    {
     "name": "stdout",
     "output_type": "stream",
     "text": [
      " unet3plus_down_from1_to1_0 (Co  (None, 64, 64, 64)  36864       ['unet3plus_up_1_en1_activation[0\n",
      " nv2D)                                                           ][0]']                           \n",
      "                                                                                                  \n",
      " unet3plus_down_from1_to2_0 (Co  (None, 64, 64, 64)  73728       ['unet3plus_down1_conv_1_activati\n",
      " nv2D)                                                           on[0][0]']                       \n",
      "                                                                                                  \n",
      " unet3plus_down_from1_to0_0_bn   (None, 64, 64, 64)  256         ['unet3plus_down_from1_to0_0[0][0\n",
      " (BatchNormalization)                                            ]']                              \n",
      "                                                                                                  \n",
      " unet3plus_down_from1_to1_0_bn   (None, 64, 64, 64)  256         ['unet3plus_down_from1_to1_0[0][0\n",
      " (BatchNormalization)                                            ]']                              \n",
      "                                                                                                  \n",
      " unet3plus_down_from1_to2_0_bn   (None, 64, 64, 64)  256         ['unet3plus_down_from1_to2_0[0][0\n",
      " (BatchNormalization)                                            ]']                              \n",
      "                                                                                                  \n",
      " unet3plus_down_from1_to0_0_act  (None, 64, 64, 64)  0           ['unet3plus_down_from1_to0_0_bn[0\n",
      " ivation (ReLU)                                                  ][0]']                           \n",
      "                                                                                                  \n",
      " unet3plus_down_from1_to1_0_act  (None, 64, 64, 64)  0           ['unet3plus_down_from1_to1_0_bn[0\n",
      " ivation (ReLU)                                                  ][0]']                           \n",
      "                                                                                                  \n",
      " unet3plus_down_from1_to2_0_act  (None, 64, 64, 64)  0           ['unet3plus_down_from1_to2_0_bn[0\n",
      " ivation (ReLU)                                                  ][0]']                           \n",
      "                                                                                                  \n",
      " unet3plus_concat_1 (Concatenat  (None, 64, 64, 192)  0          ['unet3plus_down_from1_to0_0_acti\n",
      " e)                                                              vation[0][0]',                   \n",
      "                                                                  'unet3plus_down_from1_to1_0_acti\n",
      "                                                                 vation[0][0]',                   \n",
      "                                                                  'unet3plus_down_from1_to2_0_acti\n",
      "                                                                 vation[0][0]']                   \n",
      "                                                                                                  \n",
      " unet3plus_fusion_conv_1_0 (Con  (None, 64, 64, 256)  442368     ['unet3plus_concat_1[0][0]']     \n",
      " v2D)                                                                                             \n",
      "                                                                                                  \n",
      " unet3plus_fusion_conv_1_0_bn (  (None, 64, 64, 256)  1024       ['unet3plus_fusion_conv_1_0[0][0]\n",
      " BatchNormalization)                                             ']                               \n",
      "                                                                                                  \n",
      " unet3plus_fusion_conv_1_0_acti  (None, 64, 64, 256)  0          ['unet3plus_fusion_conv_1_0_bn[0]\n",
      " vation (ReLU)                                                   [0]']                            \n",
      "                                                                                                  \n",
      " unet3plus_up_2_en0_trans_conv   (None, 128, 128, 64  294976     ['unet3plus_down3_conv_1_activati\n",
      " (Conv2DTranspose)              )                                on[0][0]']                       \n",
      "                                                                                                  \n",
      " unet3plus_up_2_en1_trans_conv   (None, 128, 128, 64  147520     ['unet3plus_fusion_conv_0_0_activ\n",
      " (Conv2DTranspose)              )                                ation[0][0]']                    \n",
      "                                                                                                  \n",
      " unet3plus_up_2_en2_trans_conv   (None, 128, 128, 64  147520     ['unet3plus_fusion_conv_1_0_activ\n",
      " (Conv2DTranspose)              )                                ation[0][0]']                    \n",
      "                                                                                                  \n",
      " unet3plus_up_2_en0_bn (BatchNo  (None, 128, 128, 64  256        ['unet3plus_up_2_en0_trans_conv[0\n",
      " rmalization)                   )                                ][0]']                           \n",
      "                                                                                                  \n",
      " unet3plus_up_2_en1_bn (BatchNo  (None, 128, 128, 64  256        ['unet3plus_up_2_en1_trans_conv[0\n",
      " rmalization)                   )                                ][0]']                           \n",
      "                                                                                                  \n",
      " unet3plus_up_2_en2_bn (BatchNo  (None, 128, 128, 64  256        ['unet3plus_up_2_en2_trans_conv[0\n",
      " rmalization)                   )                                ][0]']                           \n",
      "                                                                                                  \n",
      " unet3plus_up_2_en0_activation   (None, 128, 128, 64  0          ['unet3plus_up_2_en0_bn[0][0]']  \n",
      " (ReLU)                         )                                                                 \n",
      "                                                                                                  \n",
      " unet3plus_up_2_en1_activation   (None, 128, 128, 64  0          ['unet3plus_up_2_en1_bn[0][0]']  \n",
      " (ReLU)                         )                                                                 \n",
      "                                                                                                  \n",
      " unet3plus_up_2_en2_activation   (None, 128, 128, 64  0          ['unet3plus_up_2_en2_bn[0][0]']  \n",
      " (ReLU)                         )                                                                 \n",
      "                                                                                                  \n",
      " unet3plus_down_from2_to0_0 (Co  (None, 128, 128, 64  36864      ['unet3plus_up_2_en0_activation[0\n",
      " nv2D)                          )                                ][0]']                           \n",
      "                                                                                                  \n",
      " unet3plus_down_from2_to1_0 (Co  (None, 128, 128, 64  36864      ['unet3plus_up_2_en1_activation[0\n",
      " nv2D)                          )                                ][0]']                           \n",
      "                                                                                                  \n",
      " unet3plus_down_from2_to2_0 (Co  (None, 128, 128, 64  36864      ['unet3plus_up_2_en2_activation[0\n",
      " nv2D)                          )                                ][0]']                           \n",
      "                                                                                                  \n",
      " unet3plus_down_from2_to0_0_bn   (None, 128, 128, 64  256        ['unet3plus_down_from2_to0_0[0][0\n",
      " (BatchNormalization)           )                                ]']                              \n",
      "                                                                                                  \n",
      " unet3plus_down_from2_to1_0_bn   (None, 128, 128, 64  256        ['unet3plus_down_from2_to1_0[0][0\n",
      " (BatchNormalization)           )                                ]']                              \n",
      "                                                                                                  \n",
      " unet3plus_down_from2_to2_0_bn   (None, 128, 128, 64  256        ['unet3plus_down_from2_to2_0[0][0\n"
     ]
    },
    {
     "name": "stdout",
     "output_type": "stream",
     "text": [
      " (BatchNormalization)           )                                ]']                              \n",
      "                                                                                                  \n",
      " unet3plus_down_from2_to0_0_act  (None, 128, 128, 64  0          ['unet3plus_down_from2_to0_0_bn[0\n",
      " ivation (ReLU)                 )                                ][0]']                           \n",
      "                                                                                                  \n",
      " unet3plus_down_from2_to1_0_act  (None, 128, 128, 64  0          ['unet3plus_down_from2_to1_0_bn[0\n",
      " ivation (ReLU)                 )                                ][0]']                           \n",
      "                                                                                                  \n",
      " unet3plus_down_from2_to2_0_act  (None, 128, 128, 64  0          ['unet3plus_down_from2_to2_0_bn[0\n",
      " ivation (ReLU)                 )                                ][0]']                           \n",
      "                                                                                                  \n",
      " unet3plus_concat_2 (Concatenat  (None, 128, 128, 19  0          ['unet3plus_down_from2_to0_0_acti\n",
      " e)                             2)                               vation[0][0]',                   \n",
      "                                                                  'unet3plus_down_from2_to1_0_acti\n",
      "                                                                 vation[0][0]',                   \n",
      "                                                                  'unet3plus_down_from2_to2_0_acti\n",
      "                                                                 vation[0][0]']                   \n",
      "                                                                                                  \n",
      " unet3plus_fusion_conv_2_0 (Con  (None, 128, 128, 25  442368     ['unet3plus_concat_2[0][0]']     \n",
      " v2D)                           6)                                                                \n",
      "                                                                                                  \n",
      " unet3plus_fusion_conv_2_0_bn (  (None, 128, 128, 25  1024       ['unet3plus_fusion_conv_2_0[0][0]\n",
      " BatchNormalization)            6)                               ']                               \n",
      "                                                                                                  \n",
      " unet3plus_fusion_conv_2_0_acti  (None, 128, 128, 25  0          ['unet3plus_fusion_conv_2_0_bn[0]\n",
      " vation (ReLU)                  6)                               [0]']                            \n",
      "                                                                                                  \n",
      " unet3plus_output_final (Conv2D  (None, 128, 128, 2)  4610       ['unet3plus_fusion_conv_2_0_activ\n",
      " )                                                               ation[0][0]']                    \n",
      "                                                                                                  \n",
      " unet3plus_output_final_activat  (None, 128, 128, 2)  0          ['unet3plus_output_final[0][0]'] \n",
      " ion (Activation)                                                                                 \n",
      "                                                                                                  \n",
      "==================================================================================================\n",
      "Total params: 7,872,194\n",
      "Trainable params: 7,864,898\n",
      "Non-trainable params: 7,296\n",
      "__________________________________________________________________________________________________\n"
     ]
    }
   ],
   "source": [
    "model = models.unet_3plus_2d((128, 128, 1), n_labels=2, filter_num_down=[64, 128, 256, 512], \n",
    "                             filter_num_skip='auto', filter_num_aggregate='auto', \n",
    "                             stack_num_down=2, stack_num_up=1, activation='ReLU', output_activation='Sigmoid',\n",
    "                             batch_norm=True, pool='max', unpool=False, name='unet3plus')\n",
    "model.summary()"
   ]
  },
  {
   "cell_type": "code",
   "execution_count": 16,
   "id": "31b3b01e",
   "metadata": {},
   "outputs": [],
   "source": [
    "#hyper-parameter optimization\n",
    "from sklearn.model_selection import GridSearchCV\n",
    "from sklearn.metrics import accuracy_score\n",
    "from your_model import create_neural_network  # Import your neural network model\n",
    "\n",
    "# Define hyperparameter ranges\n",
    "param_grid = {\n",
    "    'batch_size': [16, 32, 64, 128],\n",
    "    'lr': [0.001, 0.01, 0.1, 0.2],\n",
    "}\n",
    "\n",
    "# Create your neural network model\n",
    "model = model\n",
    "\n",
    "# Define a function to calculate accuracy or other performance metrics\n",
    "def calculate_performance(y_true, y_pred):\n",
    "    return accuracy_score(y_true, y_pred)\n",
    "\n",
    "# Use GridSearchCV for hyperparameter tuning\n",
    "grid_search = GridSearchCV(estimator=model, param_grid=param_grid, cv=3, scoring=calculate_performance)\n",
    "\n",
    "# Fit the grid search to your data\n",
    "grid_search.fit(X_train, y_train)\n",
    "\n",
    "# Get the best hyperparameters\n",
    "best_batch_size = grid_search.best_params_['batch_size']\n",
    "best_lr = grid_search.best_params_['lr']\n",
    "\n",
    "# Print the best hyperparameters\n",
    "print(\"Best Batch Size:\", best_batch_size)\n",
    "print(\"Best Learning Rate (lr):\", best_lr)\n"
   ]
  },
  {
   "cell_type": "code",
   "execution_count": 17,
   "id": "2f604f0b",
   "metadata": {},
   "outputs": [],
   "source": [
    "# define the checkpoint\n",
    "from keras.callbacks import ModelCheckpoint\n",
    "from keras.callbacks import EarlyStopping\n",
    "from keras.callbacks import TensorBoard\n",
    "\n",
    "# Define the patience values for each monitored quantity\n",
    "patience_loss = 6\n",
    "patience_val_loss = 6\n",
    "\n",
    "# Set the file path for saving the best model based on training loss\n",
    "filepath_loss = \"csc_kid_up_in_train.h5\"\n",
    "\n",
    "# Set the file path for saving the best model based on validation loss\n",
    "filepath_val_loss = \"csc_kid_up_in_val.h5\"\n",
    "\n",
    "# Define the ModelCheckpoint callbacks for each monitored quantity\n",
    "checkpoint_loss = ModelCheckpoint(filepath_loss, monitor='loss', verbose=1, save_best_only=True, mode='min')\n",
    "checkpoint_val_loss = ModelCheckpoint(filepath_val_loss, monitor='val_loss', verbose=1, save_best_only=True, mode='min')\n",
    "\n",
    "# Define the EarlyStopping callbacks for each monitored quantity\n",
    "early_stopping_loss = EarlyStopping(monitor='loss', patience=patience_loss)\n",
    "early_stopping_val_loss = EarlyStopping(monitor='val_loss', patience=patience_val_loss)\n",
    "\n",
    "# Create a list of callbacks for each monitored quantity\n",
    "callbacks_list_loss = [checkpoint_loss, early_stopping_loss]\n",
    "callbacks_list_val_loss = [checkpoint_val_loss, early_stopping_val_loss]\n",
    "\n",
    "# Create a TimingCallback to measure the training time\n",
    "#cb = TimingCallback()\n",
    "callbacks_list = callbacks_list_loss+callbacks_list_val_loss"
   ]
  },
  {
   "cell_type": "code",
   "execution_count": 18,
   "id": "6c38ba48",
   "metadata": {},
   "outputs": [],
   "source": [
    "model.compile(\n",
    "  optimizer=tf.keras.optimizers.Adam(learning_rate=1e-4),\n",
    "  loss=jaccard_distance,\n",
    "  metrics=[dice_coef])"
   ]
  },
  {
   "cell_type": "code",
   "execution_count": 19,
   "id": "81680cd8",
   "metadata": {
    "scrolled": true
   },
   "outputs": [
    {
     "name": "stdout",
     "output_type": "stream",
     "text": [
      "Epoch 1/200\n",
      "4419/4419 [==============================] - ETA: 0s - loss: 0.0549 - dice_coef: 0.9721\n",
      "Epoch 1: loss improved from inf to 0.05486, saving model to csc_kid_up_in_train.h5\n",
      "\n",
      "Epoch 1: val_loss improved from inf to 0.07716, saving model to csc_kid_up_in_val.h5\n",
      "4419/4419 [==============================] - 1043s 234ms/step - loss: 0.0549 - dice_coef: 0.9721 - val_loss: 0.0772 - val_dice_coef: 0.9607\n",
      "Epoch 2/200\n",
      "4419/4419 [==============================] - ETA: 0s - loss: 0.0376 - dice_coef: 0.9808\n",
      "Epoch 2: loss improved from 0.05486 to 0.03759, saving model to csc_kid_up_in_train.h5\n",
      "\n",
      "Epoch 2: val_loss improved from 0.07716 to 0.06548, saving model to csc_kid_up_in_val.h5\n",
      "4419/4419 [==============================] - 832s 188ms/step - loss: 0.0376 - dice_coef: 0.9808 - val_loss: 0.0655 - val_dice_coef: 0.9666\n",
      "Epoch 3/200\n",
      "4419/4419 [==============================] - ETA: 0s - loss: 0.0350 - dice_coef: 0.9822\n",
      "Epoch 3: loss improved from 0.03759 to 0.03497, saving model to csc_kid_up_in_train.h5\n",
      "\n",
      "Epoch 3: val_loss improved from 0.06548 to 0.05681, saving model to csc_kid_up_in_val.h5\n",
      "4419/4419 [==============================] - 832s 188ms/step - loss: 0.0350 - dice_coef: 0.9822 - val_loss: 0.0568 - val_dice_coef: 0.9710\n",
      "Epoch 4/200\n",
      "4419/4419 [==============================] - ETA: 0s - loss: 0.0332 - dice_coef: 0.9831\n",
      "Epoch 4: loss improved from 0.03497 to 0.03320, saving model to csc_kid_up_in_train.h5\n",
      "\n",
      "Epoch 4: val_loss improved from 0.05681 to 0.03487, saving model to csc_kid_up_in_val.h5\n",
      "4419/4419 [==============================] - 831s 188ms/step - loss: 0.0332 - dice_coef: 0.9831 - val_loss: 0.0349 - val_dice_coef: 0.9822\n",
      "Epoch 5/200\n",
      "4419/4419 [==============================] - ETA: 0s - loss: 0.0317 - dice_coef: 0.9838\n",
      "Epoch 5: loss improved from 0.03320 to 0.03171, saving model to csc_kid_up_in_train.h5\n",
      "\n",
      "Epoch 5: val_loss did not improve from 0.03487\n",
      "4419/4419 [==============================] - 894s 202ms/step - loss: 0.0317 - dice_coef: 0.9838 - val_loss: 0.0418 - val_dice_coef: 0.9787\n",
      "Epoch 6/200\n",
      "4419/4419 [==============================] - ETA: 0s - loss: 0.0305 - dice_coef: 0.9844\n",
      "Epoch 6: loss improved from 0.03171 to 0.03053, saving model to csc_kid_up_in_train.h5\n",
      "\n",
      "Epoch 6: val_loss did not improve from 0.03487\n",
      "4419/4419 [==============================] - 834s 189ms/step - loss: 0.0305 - dice_coef: 0.9844 - val_loss: 0.0376 - val_dice_coef: 0.9808\n",
      "Epoch 7/200\n",
      "4419/4419 [==============================] - ETA: 0s - loss: 0.0295 - dice_coef: 0.9850\n",
      "Epoch 7: loss improved from 0.03053 to 0.02951, saving model to csc_kid_up_in_train.h5\n",
      "\n",
      "Epoch 7: val_loss improved from 0.03487 to 0.03365, saving model to csc_kid_up_in_val.h5\n",
      "4419/4419 [==============================] - 836s 189ms/step - loss: 0.0295 - dice_coef: 0.9850 - val_loss: 0.0336 - val_dice_coef: 0.9828\n",
      "Epoch 8/200\n",
      "4419/4419 [==============================] - ETA: 0s - loss: 0.0288 - dice_coef: 0.9853\n",
      "Epoch 8: loss improved from 0.02951 to 0.02881, saving model to csc_kid_up_in_train.h5\n",
      "\n",
      "Epoch 8: val_loss improved from 0.03365 to 0.03312, saving model to csc_kid_up_in_val.h5\n",
      "4419/4419 [==============================] - 838s 190ms/step - loss: 0.0288 - dice_coef: 0.9853 - val_loss: 0.0331 - val_dice_coef: 0.9831\n",
      "Epoch 9/200\n",
      "4419/4419 [==============================] - ETA: 0s - loss: 0.0278 - dice_coef: 0.9858\n",
      "Epoch 9: loss improved from 0.02881 to 0.02784, saving model to csc_kid_up_in_train.h5\n",
      "\n",
      "Epoch 9: val_loss did not improve from 0.03312\n",
      "4419/4419 [==============================] - 837s 189ms/step - loss: 0.0278 - dice_coef: 0.9858 - val_loss: 0.0347 - val_dice_coef: 0.9823\n",
      "Epoch 10/200\n",
      "4419/4419 [==============================] - ETA: 0s - loss: 0.0272 - dice_coef: 0.9861\n",
      "Epoch 10: loss improved from 0.02784 to 0.02723, saving model to csc_kid_up_in_train.h5\n",
      "\n",
      "Epoch 10: val_loss did not improve from 0.03312\n",
      "4419/4419 [==============================] - 841s 190ms/step - loss: 0.0272 - dice_coef: 0.9861 - val_loss: 0.0336 - val_dice_coef: 0.9828\n",
      "Epoch 11/200\n",
      "4419/4419 [==============================] - ETA: 0s - loss: 0.0267 - dice_coef: 0.9864\n",
      "Epoch 11: loss improved from 0.02723 to 0.02666, saving model to csc_kid_up_in_train.h5\n",
      "\n",
      "Epoch 11: val_loss improved from 0.03312 to 0.02933, saving model to csc_kid_up_in_val.h5\n",
      "4419/4419 [==============================] - 833s 189ms/step - loss: 0.0267 - dice_coef: 0.9864 - val_loss: 0.0293 - val_dice_coef: 0.9850\n",
      "Epoch 12/200\n",
      "4419/4419 [==============================] - ETA: 0s - loss: 0.0261 - dice_coef: 0.9867\n",
      "Epoch 12: loss improved from 0.02666 to 0.02612, saving model to csc_kid_up_in_train.h5\n",
      "\n",
      "Epoch 12: val_loss did not improve from 0.02933\n",
      "4419/4419 [==============================] - 832s 188ms/step - loss: 0.0261 - dice_coef: 0.9867 - val_loss: 0.0428 - val_dice_coef: 0.9782\n",
      "Epoch 13/200\n",
      "4419/4419 [==============================] - ETA: 0s - loss: 0.0256 - dice_coef: 0.9869\n",
      "Epoch 13: loss improved from 0.02612 to 0.02564, saving model to csc_kid_up_in_train.h5\n",
      "\n",
      "Epoch 13: val_loss did not improve from 0.02933\n",
      "4419/4419 [==============================] - 835s 189ms/step - loss: 0.0256 - dice_coef: 0.9869 - val_loss: 0.0357 - val_dice_coef: 0.9818\n",
      "Epoch 14/200\n",
      "4419/4419 [==============================] - ETA: 0s - loss: 0.0249 - dice_coef: 0.9873\n",
      "Epoch 14: loss improved from 0.02564 to 0.02493, saving model to csc_kid_up_in_train.h5\n",
      "\n",
      "Epoch 14: val_loss did not improve from 0.02933\n",
      "4419/4419 [==============================] - 838s 190ms/step - loss: 0.0249 - dice_coef: 0.9873 - val_loss: 0.0325 - val_dice_coef: 0.9834\n",
      "Epoch 15/200\n",
      "4419/4419 [==============================] - ETA: 0s - loss: 0.0246 - dice_coef: 0.9875\n",
      "Epoch 15: loss improved from 0.02493 to 0.02456, saving model to csc_kid_up_in_train.h5\n",
      "\n",
      "Epoch 15: val_loss did not improve from 0.02933\n",
      "4419/4419 [==============================] - 835s 189ms/step - loss: 0.0246 - dice_coef: 0.9875 - val_loss: 0.0347 - val_dice_coef: 0.9823\n",
      "Epoch 16/200\n",
      "4419/4419 [==============================] - ETA: 0s - loss: 0.0240 - dice_coef: 0.9878\n",
      "Epoch 16: loss improved from 0.02456 to 0.02398, saving model to csc_kid_up_in_train.h5\n",
      "\n",
      "Epoch 16: val_loss did not improve from 0.02933\n",
      "4419/4419 [==============================] - 838s 189ms/step - loss: 0.0240 - dice_coef: 0.9878 - val_loss: 0.0331 - val_dice_coef: 0.9831\n",
      "Epoch 17/200\n",
      "4419/4419 [==============================] - ETA: 0s - loss: 0.0235 - dice_coef: 0.9880\n",
      "Epoch 17: loss improved from 0.02398 to 0.02346, saving model to csc_kid_up_in_train.h5\n",
      "\n",
      "Epoch 17: val_loss did not improve from 0.02933\n",
      "4419/4419 [==============================] - 836s 189ms/step - loss: 0.0235 - dice_coef: 0.9880 - val_loss: 0.0342 - val_dice_coef: 0.9825\n"
     ]
    }
   ],
   "source": [
    "# Train model on dataset\n",
    "history = model.fit(training_generator, epochs = 200,\n",
    "                    validation_data = validation_generator,\n",
    "                    use_multiprocessing=False,\n",
    "                    workers=6, batch_size = 32,callbacks=[callbacks_list])"
   ]
  },
  {
   "cell_type": "code",
   "execution_count": 22,
   "id": "a6461ff0",
   "metadata": {},
   "outputs": [],
   "source": [
    "#epoch_times = history.history['epoch_times']\n",
    "val_losses = history.history['val_loss']\n",
    "train_losses = history.history['loss']\n",
    "val_dice = history.history['val_dice_coef']  # Replace with the actual key for validation dice score\n",
    "train_dice = history.history['dice_coef']  # Replace with the actual key for training dice score"
   ]
  },
  {
   "cell_type": "code",
   "execution_count": 23,
   "id": "e48a36df",
   "metadata": {},
   "outputs": [],
   "source": [
    "import pandas as pd\n",
    "data = pd.DataFrame({\n",
    "    'Epoch': range(1, len(val_losses) + 1),\n",
    "    'Val Loss': val_losses,\n",
    "    'Train Loss': train_losses,\n",
    "    'Val Dice': val_dice,\n",
    "    'Train Dice': train_dice\n",
    "})\n",
    "\n",
    "# Export the DataFrame to an Excel file\n",
    "data.to_excel(r\"D:\\Results_CK\\unet++var\\gn_only\\cys\\train.xlsx\", index=False)"
   ]
  },
  {
   "cell_type": "markdown",
   "id": "173a0f03",
   "metadata": {},
   "source": [
    "# Prediction "
   ]
  },
  {
   "cell_type": "code",
   "execution_count": 7,
   "id": "4a920e50",
   "metadata": {},
   "outputs": [],
   "source": [
    "#get the images\n",
    "def gather_images(data_path):\n",
    "    images = [f for f in os.listdir(data_path) if '_M' in f]\n",
    "    return images"
   ]
  },
  {
   "cell_type": "code",
   "execution_count": 4,
   "id": "3c859b50",
   "metadata": {},
   "outputs": [],
   "source": [
    "#define custom objects\n",
    "def Hausdorff_distance(y_true, y_pred, smooth=100):\n",
    "        intersection = K.sum(K.abs(y_true * y_pred), axis=-1)\n",
    "        sum_ = K.sum(K.abs(y_true) + K.abs(y_pred), axis=-1)\n",
    "        jac = (intersection + smooth) / (sum_ - intersection + smooth)\n",
    "        return (1 - jac) * smooth\n",
    "\n",
    "def dice_coef(y_true, y_pred):\n",
    "    smooth = 1.0\n",
    "    y_true_f = K.flatten(y_true)\n",
    "    y_pred_f = K.flatten(y_pred)\n",
    "    intersection = K.sum(y_true_f * y_pred_f)\n",
    "    return (2. * intersection + smooth) / (\n",
    "                K.sum(y_true_f) + K.sum(y_pred_f) + smooth)\n",
    "\n",
    "def dice_coef_loss(self, y_true, y_pred):\n",
    "    loss = 1 - self._dice_coef(y_true, y_pred)\n",
    "    return loss\n",
    "\n",
    "class GELU(tf.keras.layers.Layer):\n",
    "    def __init__(self, **kwargs):\n",
    "        super(GELU, self).__init__(**kwargs)\n",
    "\n",
    "    def call(self, inputs):\n",
    "        return 0.5 * inputs * (1 + tf.tanh(tf.sqrt(2 / np.pi) * (inputs + 0.044715 * tf.pow(inputs, 3))))"
   ]
  },
  {
   "cell_type": "code",
   "execution_count": 8,
   "id": "ccd8898a",
   "metadata": {},
   "outputs": [
    {
     "name": "stdout",
     "output_type": "stream",
     "text": [
      "79307\n",
      "110080_2_87_L_82_M.npy\n",
      "['101934_0_96_L_0_M.npy', '101934_0_96_L_10_M.npy']\n"
     ]
    }
   ],
   "source": [
    "#load weights\n",
    "model = keras.models.load_model(r\"C:\\Users\\UAB\\Downloads\\csc_kid_up_in_val.h5\", custom_objects={\n",
    "                       'jaccard_distance': Hausdorff_distance,\n",
    "                       'dice_coef_loss': dice_coef_loss,\n",
    "                       'dice_coef': dice_coef, 'InstanceNormalization':InstanceNormalization, 'GELU': GELU}) #load the weights\n",
    "\n",
    "model_name = 'test'  #give a name of your choice\n",
    "data_path = r\"D:\\Data_128\\data\\\\\"  #set the path to masks and imgaes\n",
    "images = gather_images(data_path) #get the input images using the defined functions\n",
    "print(len(images))  #check if the images are gathered correctly\n",
    "print(images[2000])\n",
    "print(images[0:2])"
   ]
  },
  {
   "cell_type": "code",
   "execution_count": 9,
   "id": "c5b711bd",
   "metadata": {},
   "outputs": [],
   "source": [
    "label_mapping = {name: index for index, name in enumerate(images)} #map the labels for prediction\n",
    "labels = {name: label_mapping[name] for name in image_list}"
   ]
  },
  {
   "cell_type": "code",
   "execution_count": 11,
   "id": "d6aed965",
   "metadata": {},
   "outputs": [
    {
     "name": "stdout",
     "output_type": "stream",
     "text": [
      "Directory 'D:\\npy' already exists.\n",
      "Directory 'D:\\t' already exists.\n",
      "Directory 'D:\\Results_CK\\unet++var\\in\\kid\\nii' already exists.\n"
     ]
    }
   ],
   "source": [
    "#the below code does the prediction by passing the test images \n",
    "import numpy\n",
    "import nibabel\n",
    "\n",
    "\n",
    "label_list = []\n",
    "predictions = []\n",
    "pred_path1 = r\"D:\\npy\"   #to save predictions as npy\n",
    "pred_path2 = r\"D:\\t\"     #to save tensors as npy\n",
    "pred_path3 = r\"D:\\Results_CK\\unet++var\\in\\kid\\nii\"   #to save final predictions as nii\n",
    "# Check if the directory exists\n",
    "if not os.path.exists(pred_path1):\n",
    "    # Create the directory\n",
    "    os.makedirs(pred_path1)\n",
    "    print(f\"Directory '{pred_path1}' created.\")\n",
    "else:\n",
    "    print(f\"Directory '{pred_path1}' already exists.\")\n",
    "if not os.path.exists(pred_path2):\n",
    "    # Create the directory\n",
    "    os.makedirs(pred_path2)\n",
    "    print(f\"Directory '{pred_path2}' created.\")\n",
    "else:\n",
    "    print(f\"Directory '{pred_path2}' already exists.\")\n",
    "if not os.path.exists(pred_path3):\n",
    "    # Create the directory\n",
    "    os.makedirs(pred_path3)\n",
    "    print(f\"Directory '{pred_path3}' created.\")\n",
    "else:\n",
    "    print(f\"Directory '{pred_path3}' already exists.\")\n",
    "#pred_path2 = r\"D:\\NII\" #optional - if u want to convert npy to nii\n",
    "images = image_list\n",
    "\n",
    "for i, image in enumerate(images):\n",
    "    image_stack = np.empty((1, 128, 128, 1))  # create a tensor to hold images\n",
    "    image = np.load(os.path.join(data_path, image))\n",
    "    image_stack[0, ..., 0] = image  #assign the image as a part of stack\n",
    "    label_match = str(images[i][:-5] + 'C.npy') #match label\n",
    "    label_list.append(label_match)\n",
    "\n",
    "    img_prediction = model.predict(image_stack)  #model prediction\n",
    "\n",
    "    for z, img_pred in enumerate(img_prediction): #saving the prediction as nii or npy\n",
    "        img_numb = z + i\n",
    "        image_save = img_pred[:, :]  #removing extra axis from the predicted image\n",
    "        label = label_list[img_numb][:-5]\n",
    "        filename = f\"{label}{model_name}_P.npy\"\n",
    "        filename1 = f\"{label}{model_name}_P.nii\"\n",
    "        np.save(os.path.join(pred_path1, filename), image_save)\n",
    "        #the below code is optional if the above npy have to be saved as nii (2D)\n",
    "        #image = np.load(os.path.join(pred_path1, filename))\n",
    "        #affine = numpy.eye(4)\n",
    "        #nifti_file = nibabel.Nifti1Image(image_save, affine)\n",
    "        #nib.save(nifti_file, os.path.join(pred_path2, filename1))"
   ]
  },
  {
   "cell_type": "markdown",
   "id": "fb17fab2",
   "metadata": {},
   "source": [
    "# Performance Calculation"
   ]
  },
  {
   "cell_type": "code",
   "execution_count": 12,
   "id": "421af63c",
   "metadata": {},
   "outputs": [],
   "source": [
    "import numpy as np\n",
    "from keras import backend as K\n",
    "smooth = 1\n",
    "\n",
    "def jaccard_distance_loss(y_true, y_pred, smooth=100): \n",
    "    y_true_f = K.flatten(y_true)\n",
    "    y_pred_f = K.flatten(y_pred)\n",
    "    intersection = K.sum(K.abs(y_true_f * y_pred_f)) \n",
    "    sum_ = K.sum(K.abs(y_true_f) + K.abs(y_pred_f)) \n",
    "    jac = (intersection + smooth) / (sum_ - intersection + smooth) \n",
    "    return (jac) * smooth \n",
    "\n",
    "def mean_length_error(y_true, y_pred):\n",
    "    y_true_f = K.sum(K.round(K.flatten(y_true)))\n",
    "    y_pred_f = K.sum(K.round(K.flatten(y_pred)))\n",
    "    delta = (y_pred_f - y_true_f)\n",
    "    return K.mean(K.tanh(delta))\n",
    "\n",
    "def dice_coef(y_true, y_pred):\n",
    "    y_true_f = K.flatten(y_true)\n",
    "    y_pred_f = K.flatten(y_pred)\n",
    "    intersection = K.sum(y_true_f * y_pred_f)\n",
    "    return (2. * intersection + smooth) / (K.sum(y_true_f) + K.sum(y_pred_f) + smooth)\n",
    "\n",
    "def dice_coef_loss(y_true, y_pred):\n",
    "    return -dice_coef(y_true, y_pred)"
   ]
  },
  {
   "cell_type": "code",
   "execution_count": 13,
   "id": "bda610fd",
   "metadata": {},
   "outputs": [],
   "source": [
    "def gather_set(data_path, phrase):\n",
    "    return np.array([f for f in os.listdir(data_path) if phrase in f])"
   ]
  },
  {
   "cell_type": "code",
   "execution_count": 14,
   "id": "55389fd1",
   "metadata": {},
   "outputs": [],
   "source": [
    "#filepath_predictions = r'D:\\Results_CK\\Compression\\Numpy\\PCA\\Kidneys\\npy'\n",
    "filepath_predictions = r\"D:\\npy\"     #2d Predictions\n",
    "filepath_tensors = r\"D:\\t\"           #3D tensors\n",
    "filepath_data = r\"D:\\Data_128\\data\\\\\"   #Input images path\n",
    "\n",
    "images = gather_set(filepath_predictions, 'P')\n",
    "model_name = 'test'"
   ]
  },
  {
   "cell_type": "code",
   "execution_count": 15,
   "id": "435aaf86",
   "metadata": {},
   "outputs": [],
   "source": [
    "id_list = []   \n",
    "for i in range(len(images)):\n",
    "    image_name = images[i]\n",
    "    unique_id =  image_name[0:14]\n",
    "    id_list.append(unique_id)\n",
    "unique_ids = list(set(id_list))\n",
    "for i in range(len(unique_ids)):\n",
    "    name = unique_ids[i] \n",
    "    if not name.endswith('_'):\n",
    "        name = name+'_'\n",
    "        unique_ids[i]=name"
   ]
  },
  {
   "cell_type": "code",
   "execution_count": 16,
   "id": "7a582bb7",
   "metadata": {},
   "outputs": [],
   "source": [
    "import re\n",
    "for i in range(len(unique_ids)):\n",
    "    pt_info = unique_ids[i]\n",
    "    pt_num, yr_num, num_slices = re.findall(r'\\d+', pt_info)\n",
    "    tensor = np.zeros((128,128,int(num_slices)))\n",
    "    for x in range(int(num_slices)):\n",
    "        img_name = unique_ids[i]+str(x)+'_K.npy'\n",
    "        image = np.load(filepath_data + '\\\\' + img_name)\n",
    "        img_slice = image\n",
    "        tensor[:,:,x] = img_slice\n",
    "        x = x+1\n",
    "    new_fname = unique_ids[i]+'K.npy'\n",
    "    np.save(os.path.join(filepath_tensors, new_fname), tensor)\n",
    "    \n",
    "for i in range(len(unique_ids)):\n",
    "    pt_info = unique_ids[i]\n",
    "    pt_num, yr_num, num_slices = re.findall(r'\\d+', pt_info)\n",
    "    tensor = np.zeros((128,128,int(num_slices)))\n",
    "    for x in range(int(num_slices)):\n",
    "        img_name = unique_ids[i]+str(x)+ '_' + model_name +'_P.npy'\n",
    "        image = np.load(filepath_predictions + '\\\\' + img_name)\n",
    "        img_slice = image[:,:,1]\n",
    "        tensor[:,:,x] = img_slice\n",
    "        x = x+1\n",
    "    new_fname = unique_ids[i]+ model_name +'_Prediction.npy'\n",
    "    np.save(os.path.join(filepath_tensors, new_fname), tensor)"
   ]
  },
  {
   "cell_type": "code",
   "execution_count": 17,
   "id": "b104694f",
   "metadata": {},
   "outputs": [],
   "source": [
    "filepath_tensors = filepath_tensors\n",
    "pred_list = gather_set(filepath_tensors, '_Prediction')\n",
    "true_list = gather_set(filepath_tensors, '_K.')"
   ]
  },
  {
   "cell_type": "code",
   "execution_count": 18,
   "id": "f03b5257",
   "metadata": {},
   "outputs": [],
   "source": [
    "results1 = []\n",
    "results = []\n",
    "for i in range(len(pred_list)):\n",
    "    prediction = np.load(filepath_tensors + '\\\\'+ pred_list[i])\n",
    "    true = np.load(filepath_tensors + '\\\\'+true_list[i])\n",
    "    dice_calc = dice_coef(true,prediction)\n",
    "    #model = pred_list[i][18:46]\n",
    "    patient = pred_list[i][:17]\n",
    "    new_calc = [dice_calc.numpy()]\n",
    "    new_calc1 = [patient, dice_calc.numpy()]\n",
    "    #new_calc = [dice_calc.numpy()]\n",
    "    results.append(new_calc)\n",
    "    results1.append(new_calc1)"
   ]
  },
  {
   "cell_type": "code",
   "execution_count": 19,
   "id": "da969e4c",
   "metadata": {},
   "outputs": [
    {
     "name": "stdout",
     "output_type": "stream",
     "text": [
      "0.8420158775506565\n",
      "['457036_1_105_L_te', 0.8420158775506565, 2.890796672077761, <bound method _EagerTensorBase.numpy of <tf.Tensor: shape=(), dtype=float64, numpy=0.048576459026784896>>, 0.727225254878882, 0.17088681175595238]\n",
      "0.9438279759329913\n",
      "['457036_3_111_R_te', 0.9438279759329913, 1.6253005544585577, <bound method _EagerTensorBase.numpy of <tf.Tensor: shape=(), dtype=float64, numpy=0.014525277860202525>>, 0.8936711914936278, 0.13629590283643017]\n"
     ]
    }
   ],
   "source": [
    "min_values = []\n",
    "for col in zip(*results):\n",
    "    col_values = [float(val()) if callable(val) else float(val) for val in col]\n",
    "    col_min = min(col_values)\n",
    "    min_values.append(col_min)\n",
    "\n",
    "# patient_min = min_values[0]  # Minimum value of patient values\n",
    "dice_calc_min = min_values[0]  # Minimum value of dice_calc values\n",
    "print(dice_calc_min)\n",
    "\n",
    "for i in results1:\n",
    "    if min_values[0] in i:\n",
    "        print(i)\n",
    "\n",
    "min_values = []\n",
    "for col in zip(*results):\n",
    "    col_values = [float(val()) if callable(val) else float(val) for val in col]\n",
    "    col_min = max(col_values)\n",
    "    min_values.append(col_min)\n",
    "\n",
    "# patient_min = min_values[0]  # Minimum value of patient values\n",
    "dice_calc_min = min_values[0]  # Minimum value of dice_calc values\n",
    "print(dice_calc_min)\n",
    "\n",
    "for i in results1:\n",
    "    if min_values[0] in i:\n",
    "        print(i)"
   ]
  },
  {
   "cell_type": "code",
   "execution_count": 20,
   "id": "22bae3cb",
   "metadata": {
    "scrolled": true
   },
   "outputs": [
    {
     "name": "stdout",
     "output_type": "stream",
     "text": [
      "Dice Coefficient Average: 0.8974605453403786\n",
      "HD Distance Average: 2.2557731120159104\n",
      "HD1 Distance Average: 0.031109551249895107\n",
      "Jaccard Distance Average: 0.8160556349815984\n",
      "IOU Distance Average: 0.15251781605999135\n"
     ]
    }
   ],
   "source": [
    "averages = []\n",
    "for col in zip(*results):\n",
    "    col_values = [float(val()) if callable(val) else float(val) for val in col]\n",
    "    col_avg = sum(col_values) / len(col_values)\n",
    "    averages.append(col_avg)\n",
    "\n",
    "#patient_avg = averages[0]  # Average of patient values\n",
    "dice_calc_avg = averages[0]  # Average of dice_calc values\n",
    "print(\"Dice Coefficient Average:\", dice_calc_avg)"
   ]
  },
  {
   "cell_type": "code",
   "execution_count": 34,
   "id": "34c68b9b",
   "metadata": {},
   "outputs": [
    {
     "name": "stdout",
     "output_type": "stream",
     "text": [
      "Dice Coefficient Standard Deviation: 0.3618699014701029\n",
      "HD Distance Standard Deviation: 0.840657460632272\n",
      "HD1 Distance Standard Deviation: 0.938614203495385\n",
      "Jaccard Distance Standard Deviation: 0.4542534629573794\n",
      "IOU Distance Standard Deviation: 0.9258641438623455\n"
     ]
    }
   ],
   "source": [
    "import math\n",
    "\n",
    "# Calculate standard deviation for each parameter\n",
    "dice_calc_sd = math.sqrt(sum((float(val()) if callable(val) else float(val) - dice_calc_avg) ** 2 for val in results[0]) / len(results[0])\n",
    "\n",
    "# Print standard deviation values\n",
    "print(\"Dice Coefficient Standard Deviation:\", dice_calc_sd)"
   ]
  },
  {
   "cell_type": "code",
   "execution_count": 36,
   "id": "b8ac8f76",
   "metadata": {},
   "outputs": [],
   "source": [
    "def gather_images(data_path):\n",
    "    return np.array([f for f in os.listdir(data_path) if '_test' in f])"
   ]
  },
  {
   "cell_type": "code",
   "execution_count": 37,
   "id": "5a669ab3",
   "metadata": {},
   "outputs": [
    {
     "name": "stdout",
     "output_type": "stream",
     "text": [
      "76\n"
     ]
    }
   ],
   "source": [
    "filepath_tensors = r\"D:\\Results_CK\\unet++var\\in\\kid\\t\"\n",
    "images = gather_images(filepath_tensors)\n",
    "print(len(images))\n",
    "path = r\"D:\\Results_CK\\unet++var\\in\\kid\\nii\"\n",
    "for i in range(len(images)):\n",
    "    image = np.load(os.path.join(filepath_tensors, images[i]))\n",
    "    affine = np.eye(4)\n",
    "    nifti_file = nib.Nifti1Image(image, affine)\n",
    "    filename = images[i][:-3]+'nii'\n",
    "    nib.save(nifti_file, os.path.join(path, filename))"
   ]
  },
  {
   "cell_type": "code",
   "execution_count": null,
   "id": "c36eacbc",
   "metadata": {},
   "outputs": [],
   "source": []
  }
 ],
 "metadata": {
  "kernelspec": {
   "display_name": "Python 3",
   "language": "python",
   "name": "python3"
  },
  "language_info": {
   "codemirror_mode": {
    "name": "ipython",
    "version": 3
   },
   "file_extension": ".py",
   "mimetype": "text/x-python",
   "name": "python",
   "nbconvert_exporter": "python",
   "pygments_lexer": "ipython3",
   "version": "3.8.5"
  }
 },
 "nbformat": 4,
 "nbformat_minor": 5
}
